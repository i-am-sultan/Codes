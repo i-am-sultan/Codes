{
 "cells": [
  {
   "cell_type": "code",
   "execution_count": null,
   "id": "7a55f5fa",
   "metadata": {},
   "outputs": [],
   "source": [
    "import requests\n",
    "from bs4 import BeautifulSoup"
   ]
  },
  {
   "cell_type": "code",
   "execution_count": null,
   "id": "b9850c8b",
   "metadata": {},
   "outputs": [],
   "source": [
    "url = \"https://insights.blackcoffer.com/ai-in-healthcare-to-improve-patient-outcomes/\"\n"
   ]
  },
  {
   "cell_type": "code",
   "execution_count": null,
   "id": "4b211086",
   "metadata": {},
   "outputs": [],
   "source": [
    "# Send an HTTP request to the URL\n",
    "response = requests.get(url)"
   ]
  },
  {
   "cell_type": "code",
   "execution_count": null,
   "id": "6b4038e1",
   "metadata": {},
   "outputs": [],
   "source": [
    "# Parse the HTML content using BeautifulSoup\n",
    "soup = BeautifulSoup(response.content, \"html.parser\")"
   ]
  },
  {
   "cell_type": "code",
   "execution_count": null,
   "id": "5d1cfef4",
   "metadata": {},
   "outputs": [],
   "source": [
    "# Find the desired content by searching for HTML tags, classes, or attributes\n",
    "title = soup.find(\"title\").text\n",
    "paragraphs = [p.text for p in soup.find_all(\"p\")]\n"
   ]
  },
  {
   "cell_type": "code",
   "execution_count": null,
   "id": "85fb1a6a",
   "metadata": {},
   "outputs": [],
   "source": [
    "# Create a new text file and write the results to it\n",
    "with open(\"37.txt\", \"w\") as file:\n",
    "    file.write(\"Title: \" + title + \"\\n\\n\")\n",
    "    file.write(\"Paragraphs:\\n\")\n",
    "    for p in paragraphs:\n",
    "        file.write(\"- \" + p + \"\\n\")"
   ]
  },
  {
   "cell_type": "code",
   "execution_count": null,
   "id": "daa89a6f",
   "metadata": {},
   "outputs": [],
   "source": [
    "print(\"Output file generated successfully!\")"
   ]
  }
 ],
 "metadata": {
  "kernelspec": {
   "display_name": "Python 3 (ipykernel)",
   "language": "python",
   "name": "python3"
  },
  "language_info": {
   "codemirror_mode": {
    "name": "ipython",
    "version": 3
   },
   "file_extension": ".py",
   "mimetype": "text/x-python",
   "name": "python",
   "nbconvert_exporter": "python",
   "pygments_lexer": "ipython3",
   "version": "3.9.13"
  }
 },
 "nbformat": 4,
 "nbformat_minor": 5
}
