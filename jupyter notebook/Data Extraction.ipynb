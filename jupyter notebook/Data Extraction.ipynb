{
 "cells": [
  {
   "cell_type": "code",
   "execution_count": 1,
   "id": "ce004c3d",
   "metadata": {},
   "outputs": [],
   "source": [
    "import requests\n",
    "from bs4 import BeautifulSoup"
   ]
  },
  {
   "cell_type": "code",
   "execution_count": 2,
   "id": "7a015618",
   "metadata": {},
   "outputs": [],
   "source": [
    "url = \"https://insights.blackcoffer.com/ai-in-healthcare-to-improve-patient-outcomes/\""
   ]
  },
  {
   "cell_type": "code",
   "execution_count": 3,
   "id": "6f8e3ce3",
   "metadata": {},
   "outputs": [],
   "source": [
    "# Send an HTTP request to the URL\n",
    "response = requests.get(url)"
   ]
  },
  {
   "cell_type": "code",
   "execution_count": 4,
   "id": "3366d8b8",
   "metadata": {},
   "outputs": [],
   "source": [
    "# Parse the HTML content using BeautifulSoup\n",
    "soup = BeautifulSoup(response.content, \"html.parser\")"
   ]
  },
  {
   "cell_type": "code",
   "execution_count": 5,
   "id": "c87e75b8",
   "metadata": {},
   "outputs": [],
   "source": [
    "# Find the desired content by searching for HTML tags, classes, or attributes\n",
    "title = soup.find(\"title\").text\n",
    "paragraphs = [p.text for p in soup.find_all(\"p\")]\n"
   ]
  },
  {
   "cell_type": "code",
   "execution_count": 6,
   "id": "9d3afb55",
   "metadata": {},
   "outputs": [],
   "source": [
    "# Create a new text file and write the results to it\n",
    "with open(\"37.txt\", \"w\") as file:\n",
    "    file.write(\"Title: \" + title + \"\\n\\n\")\n",
    "    file.write(\"Paragraphs:\\n\")\n",
    "    for p in paragraphs:\n",
    "        file.write(\"- \" + p + \"\\n\")"
   ]
  },
  {
   "cell_type": "code",
   "execution_count": 7,
   "id": "f82caef7",
   "metadata": {},
   "outputs": [
    {
     "name": "stdout",
     "output_type": "stream",
     "text": [
      "Output file generated successfully!\n"
     ]
    }
   ],
   "source": [
    "print(\"Output file generated successfully!\")"
   ]
  }
 ],
 "metadata": {
  "kernelspec": {
   "display_name": "Python 3 (ipykernel)",
   "language": "python",
   "name": "python3"
  },
  "language_info": {
   "codemirror_mode": {
    "name": "ipython",
    "version": 3
   },
   "file_extension": ".py",
   "mimetype": "text/x-python",
   "name": "python",
   "nbconvert_exporter": "python",
   "pygments_lexer": "ipython3",
   "version": "3.9.13"
  }
 },
 "nbformat": 4,
 "nbformat_minor": 5
}
